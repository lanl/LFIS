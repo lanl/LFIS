{
 "cells": [
  {
   "cell_type": "code",
   "execution_count": 1,
   "id": "1f3b5321-c561-4397-8cea-9251b03e345d",
   "metadata": {
    "scrolled": true
   },
   "outputs": [],
   "source": [
    "import os\n",
    "\n",
    "import numpy as np\n",
    "import torch\n",
    "\n",
    "import matplotlib.pyplot as plt\n",
    "\n",
    "\n",
    "from LFIS.config.config import get_configuration, get_baseconfig\n",
    "from LFIS.LF.LF import LF_base\n",
    "\n",
    "from LFIS.util.util import (\n",
    "                    run_stat,\n",
    "                    save_file,\n",
    "                    load_file)"
   ]
  },
  {
   "cell_type": "code",
   "execution_count": 2,
   "id": "095f4c3e-44ec-4f4f-a7ae-db96066dbe37",
   "metadata": {},
   "outputs": [],
   "source": [
    "def check_parameter(config):\n",
    "    print(f'Case: {config.case}')\n",
    "    print(f'Problem: {config.problemtype}')\n",
    "    print(f'Number of steps: {config.nstep}')\n",
    "    print(f'Device: {config.device}')\n",
    "    print(f'Number of dimension: {config.ndim}')\n",
    "    print(f'Epoch: {config.train.epoch}')\n",
    "    print(f'Sample size: {config.train.nsample}')\n",
    "    print(f'Batch size: {config.train.nbatch}')"
   ]
  },
  {
   "cell_type": "code",
   "execution_count": 3,
   "id": "4b26e680-4336-4751-9ed2-5fe37cb1acf4",
   "metadata": {},
   "outputs": [],
   "source": [
    "cfg = get_baseconfig()\n",
    "configurer = get_configuration()"
   ]
  },
  {
   "cell_type": "code",
   "execution_count": 4,
   "id": "a601ff49-cab4-494d-afda-e417d210d22f",
   "metadata": {},
   "outputs": [],
   "source": [
    "case = 'funnel'"
   ]
  },
  {
   "cell_type": "code",
   "execution_count": 5,
   "id": "a5defff5-398c-4939-80b9-9996b2539f18",
   "metadata": {},
   "outputs": [],
   "source": [
    "cfg_funnel = configurer.setup_config(cfg, case)"
   ]
  },
  {
   "cell_type": "code",
   "execution_count": 6,
   "id": "b188dae4-0d17-49b7-9de1-e39027ec3a02",
   "metadata": {},
   "outputs": [
    {
     "name": "stdout",
     "output_type": "stream",
     "text": [
      "Case: 10-Dimensional Funnel Distribution\n",
      "Problem: transform\n",
      "Number of steps: 256\n",
      "Device: cuda:0\n",
      "Number of dimension: 10\n",
      "Epoch: 10000\n",
      "Sample size: 200000\n",
      "Batch size: 20000\n"
     ]
    }
   ],
   "source": [
    "check_parameter(cfg_funnel)"
   ]
  },
  {
   "cell_type": "code",
   "execution_count": 7,
   "id": "37ad5c01-6924-41e2-b24e-d7dccc25cb63",
   "metadata": {},
   "outputs": [],
   "source": [
    "trainer = cfg_funnel.train.method"
   ]
  },
  {
   "cell_type": "code",
   "execution_count": 8,
   "id": "f4907106-7ccb-4b3e-8a07-d8b0dd8e2cb6",
   "metadata": {},
   "outputs": [
    {
     "data": {
      "text/plain": [
       "LF_base(\n",
       "  (flow): NN_Base(\n",
       "    (layers): Sequential(\n",
       "      (0): Linear(in_features=10, out_features=64, bias=True)\n",
       "      (1): Sequential(\n",
       "        (0): SiLU()\n",
       "        (1): Linear(in_features=64, out_features=64, bias=True)\n",
       "      )\n",
       "      (2): Sequential(\n",
       "        (0): SiLU()\n",
       "        (1): Linear(in_features=64, out_features=64, bias=True)\n",
       "      )\n",
       "      (3): SiLU()\n",
       "      (4): Linear(in_features=64, out_features=10, bias=True)\n",
       "    )\n",
       "  )\n",
       ")"
      ]
     },
     "execution_count": 8,
     "metadata": {},
     "output_type": "execute_result"
    }
   ],
   "source": [
    "LFmodel = LF_base(cfg_funnel)\n",
    "LFmodel.to(cfg_funnel.device)"
   ]
  },
  {
   "cell_type": "markdown",
   "id": "3f626811-c995-4ef4-9323-386ff8163071",
   "metadata": {},
   "source": [
    "# Train LFIS"
   ]
  },
  {
   "cell_type": "code",
   "execution_count": 9,
   "id": "dbce3f9c-a7d9-44de-a50f-cb85fb0c928e",
   "metadata": {},
   "outputs": [
    {
     "name": "stdout",
     "output_type": "stream",
     "text": [
      "tensor(0.) tensor(0., device='cuda:0')\n",
      "time = 0.0000, loss = 0.0000, percetage = nan%\n",
      "Complete Training Flow at time 0.0000\n",
      "tensor(0.0039) tensor(0.0691, device='cuda:0')\n",
      "time = 0.0039, loss = 0.0229, percetage = 99.9954%\n",
      "time = 0.0039, loss = 0.0001, percetage = 0.4284%\n"
     ]
    },
    {
     "ename": "KeyboardInterrupt",
     "evalue": "",
     "output_type": "error",
     "traceback": [
      "\u001b[0;31m---------------------------------------------------------------------------\u001b[0m",
      "\u001b[0;31mKeyboardInterrupt\u001b[0m                         Traceback (most recent call last)",
      "Cell \u001b[0;32mIn[9], line 1\u001b[0m\n\u001b[0;32m----> 1\u001b[0m output \u001b[38;5;241m=\u001b[39m \u001b[43mtrainer\u001b[49m\u001b[43m(\u001b[49m\u001b[43mcfg_funnel\u001b[49m\u001b[43m)\u001b[49m\n\u001b[1;32m      2\u001b[0m save_file(case, output)\n",
      "File \u001b[0;32m~/LF/LFIS/src/LFIS/trainer/trainer.py:85\u001b[0m, in \u001b[0;36mtrain_withoutweight\u001b[0;34m(config)\u001b[0m\n\u001b[1;32m     82\u001b[0m \u001b[38;5;28;01mif\u001b[39;00m i\u001b[38;5;241m%\u001b[39m\u001b[38;5;241m200\u001b[39m \u001b[38;5;241m==\u001b[39m \u001b[38;5;241m0\u001b[39m: print_status(t, loss,  ploss)\n\u001b[1;32m     84\u001b[0m \u001b[38;5;28;01mif\u001b[39;00m t \u001b[38;5;241m==\u001b[39m \u001b[38;5;241m0\u001b[39m: \u001b[38;5;28;01mbreak\u001b[39;00m\n\u001b[0;32m---> 85\u001b[0m \u001b[38;5;28;01mif\u001b[39;00m ploss \u001b[38;5;241m<\u001b[39m threshold:\n\u001b[1;32m     86\u001b[0m     print_status(t, loss,  ploss)\n\u001b[1;32m     87\u001b[0m     \u001b[38;5;28;01mbreak\u001b[39;00m\n",
      "\u001b[0;31mKeyboardInterrupt\u001b[0m: "
     ]
    }
   ],
   "source": [
    "output = trainer(cfg_funnel)\n",
    "save_file(case, output)"
   ]
  },
  {
   "cell_type": "markdown",
   "id": "5c7497be-abb3-4aa4-b475-850502db5b31",
   "metadata": {},
   "source": [
    "# Load pre-trained LFIS"
   ]
  },
  {
   "cell_type": "code",
   "execution_count": 33,
   "id": "23d0aa55-cb39-410d-8543-e110b8a77e4a",
   "metadata": {},
   "outputs": [],
   "source": [
    "nnmodel = cfg_MG2D.nnmodel.to(cfg_MG2D.device)\n",
    "output = load_file(case, nnmodel)"
   ]
  },
  {
   "cell_type": "code",
   "execution_count": 34,
   "id": "7cd5ad14-4d37-45dc-8638-72c156754db2",
   "metadata": {},
   "outputs": [],
   "source": [
    "logstat = run_stat(LFmodel, output)"
   ]
  },
  {
   "cell_type": "code",
   "execution_count": 38,
   "id": "5057b285-ce31-4457-bcb3-6ff688cd7218",
   "metadata": {},
   "outputs": [
    {
     "data": {
      "text/plain": [
       "<matplotlib.collections.PathCollection at 0x14f2641b9730>"
      ]
     },
     "execution_count": 38,
     "metadata": {},
     "output_type": "execute_result"
    },
    {
     "data": {
      "image/png": "[encoded data removed]",
      "text/plain": [
       "<Figure size 640x480 with 1 Axes>"
      ]
     },
     "metadata": {},
     "output_type": "display_data"
    }
   ],
   "source": [
    "samples = logstat['samples']\n",
    "plt.scatter(samples[:,0],samples[:,1], s = 0.1)"
   ]
  },
  {
   "cell_type": "code",
   "execution_count": null,
   "id": "a69482ed-b4d1-42c2-b635-8fef7076a6c7",
   "metadata": {},
   "outputs": [],
   "source": []
  }
 ],
 "metadata": {
  "kernelspec": {
   "display_name": "Python 3 (ipykernel)",
   "language": "python",
   "name": "python3"
  },
  "language_info": {
   "codemirror_mode": {
    "name": "ipython",
    "version": 3
   },
   "file_extension": ".py",
   "mimetype": "text/x-python",
   "name": "python",
   "nbconvert_exporter": "python",
   "pygments_lexer": "ipython3",
   "version": "3.9.17"
  }
 },
 "nbformat": 4,
 "nbformat_minor": 5
}
